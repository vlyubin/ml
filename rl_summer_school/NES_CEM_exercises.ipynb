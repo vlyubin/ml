{
 "cells": [
  {
   "cell_type": "code",
   "execution_count": 1,
   "metadata": {
    "collapsed": false
   },
   "outputs": [],
   "source": [
    "#NES in 1D - here our function is basically -(x-0.5)^2 - (x - 0.1)^2 - (x + 0.3)^2\n",
    "import numpy as np\n",
    "np.random.seed(0)\n",
    "\n",
    "def f(w):\n",
    "  center = np.array([0.5, 0.1, -0.3])\n",
    "  return -np.sum(np.square(center - w))\n",
    "\n",
    "def nes(npop, n_iter, sigma, alpha, f, w0):\n",
    "  w = w0\n",
    "  v = [w]\n",
    "  for i in range(n_iter):\n",
    "    eps_sum = 0\n",
    "    for j in range(npop):\n",
    "      eps = np.random.normal(0, 1)\n",
    "      eps_sum += f(w + eps * sigma) * eps\n",
    "    eps_sum = eps_sum * alpha / npop / sigma\n",
    "    w += eps_sum\n",
    "    v.append(w)\n",
    "  return w, v"
   ]
  },
  {
   "cell_type": "code",
   "execution_count": 14,
   "metadata": {
    "collapsed": false
   },
   "outputs": [
    {
     "name": "stdout",
     "output_type": "stream",
     "text": [
      "0.110454826294\n"
     ]
    }
   ],
   "source": [
    "w, v = nes(50, 100000, 1, 0.0001, f, 1)\n",
    "print(w)"
   ]
  },
  {
   "cell_type": "code",
   "execution_count": 15,
   "metadata": {
    "collapsed": false
   },
   "outputs": [
    {
     "data": {
      "image/png": "[encoded data removed]",
      "text/plain": [
       "<matplotlib.figure.Figure at 0x10aa42668>"
      ]
     },
     "metadata": {},
     "output_type": "display_data"
    }
   ],
   "source": [
    "%matplotlib inline\n",
    "import matplotlib.pyplot as plt\n",
    "plt.plot(v)\n",
    "plt.ylabel('vals')\n",
    "plt.show()\n",
    "\n",
    "# Plot the values that we get - we can see that function converges to 0.1 - which is the minimum of f (it's easy\n",
    "# to verify this by taking a derivative)"
   ]
  },
  {
   "cell_type": "code",
   "execution_count": 43,
   "metadata": {
    "collapsed": true
   },
   "outputs": [],
   "source": [
    "#NES in 3D - here w is a vector\n",
    "import numpy as np\n",
    "np.random.seed(0)\n",
    "\n",
    "def nes_3(npop, n_iter, sigma, alpha, f, w0):\n",
    "  w = w0\n",
    "  v = [w]\n",
    "  for i in range(n_iter):\n",
    "    eps_sum = 0\n",
    "    for j in range(npop):\n",
    "      # Generate a random vector\n",
    "      eps = np.random.normal(0, 1, size=3)\n",
    "      eps_sum += f(w + eps * sigma) * eps\n",
    "    eps_sum = eps_sum * alpha / npop / sigma\n",
    "    w += eps_sum\n",
    "    v.append(w)\n",
    "  return w, v"
   ]
  },
  {
   "cell_type": "code",
   "execution_count": 46,
   "metadata": {
    "collapsed": false
   },
   "outputs": [
    {
     "name": "stdout",
     "output_type": "stream",
     "text": [
      "[ 0.50383492  0.10401875 -0.30436587]\n"
     ]
    }
   ],
   "source": [
    "# As you can see, we converged to (0.5, 0.1, -0.3), which is indeed the minimum\n",
    "w, v = nes_3(40, 10000, 1, 0.001, f, [4,4,4])\n",
    "print(w)"
   ]
  },
  {
   "cell_type": "code",
   "execution_count": 35,
   "metadata": {
    "collapsed": false
   },
   "outputs": [],
   "source": [
    "#CEM in 1D\n",
    "\n",
    "def cem(n_iter, mu, sigma, batch_size, elite_frac):\n",
    "    mus = [mu]\n",
    "    for _ in range(n_iter):\n",
    "        if sigma < 1e-12:\n",
    "            break\n",
    "        vals = []\n",
    "        for j in range(batch_size):\n",
    "            rv = np.random.normal(mu, sigma)\n",
    "            vals.append((f(rv), rv))\n",
    "        vals.sort()\n",
    "        vals = vals[-elite_frac:]\n",
    "        mu = np.mean(np.array(vals)[:, 1])\n",
    "        mus.append(mu)\n",
    "        sigma = np.std(np.array(vals)[:, 1])\n",
    "    return mu, mus"
   ]
  },
  {
   "cell_type": "code",
   "execution_count": 36,
   "metadata": {
    "collapsed": false
   },
   "outputs": [
    {
     "name": "stdout",
     "output_type": "stream",
     "text": [
      "0.100000002224\n"
     ]
    }
   ],
   "source": [
    "mu, mus = cem(100, 1, 1, 100, 10)\n",
    "print(mu)"
   ]
  },
  {
   "cell_type": "code",
   "execution_count": 38,
   "metadata": {
    "collapsed": false
   },
   "outputs": [
    {
     "data": {
      "image/png": "[encoded data removed]",
      "text/plain": [
       "<matplotlib.figure.Figure at 0x109c2b4a8>"
      ]
     },
     "metadata": {},
     "output_type": "display_data"
    }
   ],
   "source": [
    "%matplotlib inline\n",
    "import matplotlib.pyplot as plt\n",
    "plt.plot(mus)\n",
    "plt.ylabel('vals')\n",
    "plt.show()\n",
    "\n",
    "# Note how quickly we converged!"
   ]
  },
  {
   "cell_type": "code",
   "execution_count": 75,
   "metadata": {
    "collapsed": false
   },
   "outputs": [],
   "source": [
    "#CEM in 3D (w is a vector)\n",
    "\n",
    "def cem_multi(n_iter, mu, sigma, batch_size, elite_frac):\n",
    "    mus = [mu]\n",
    "    for _ in range(n_iter):\n",
    "        if sigma < 1e-12:\n",
    "            break\n",
    "        vals = []\n",
    "        for j in range(batch_size):\n",
    "            rv = np.random.normal(mu, sigma, 3)\n",
    "            vals.append((f(rv), rv))\n",
    "        vals.sort()\n",
    "        vals = vals[-elite_frac:]\n",
    "        filt_vals = []\n",
    "        for z in range(len(vals)):\n",
    "            filt_vals.append(vals[z][1])\n",
    "        mu = np.mean(np.array(filt_vals), axis=0)\n",
    "        mus.append(mu)\n",
    "        sigma = np.std(np.array(filt_vals))\n",
    "        \n",
    "    return mu, mus"
   ]
  },
  {
   "cell_type": "code",
   "execution_count": 81,
   "metadata": {
    "collapsed": false
   },
   "outputs": [
    {
     "name": "stdout",
     "output_type": "stream",
     "text": [
      "[ 0.5061659   0.11507896 -0.3008684 ]\n"
     ]
    }
   ],
   "source": [
    "# We converge to (0.5, 0.1, -0.3) as expected\n",
    "mu, mus = cem_multi(100, [2,2,2], 1, 500, 25)\n",
    "print(mu)"
   ]
  }
 ],
 "metadata": {
  "kernelspec": {
   "display_name": "Python 3",
   "language": "python",
   "name": "python3"
  },
  "language_info": {
   "codemirror_mode": {
    "name": "ipython",
    "version": 3
   },
   "file_extension": ".py",
   "mimetype": "text/x-python",
   "name": "python",
   "nbconvert_exporter": "python",
   "pygments_lexer": "ipython3",
   "version": "3.6.1"
  }
 },
 "nbformat": 4,
 "nbformat_minor": 0
}
